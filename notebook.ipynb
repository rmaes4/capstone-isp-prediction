{
 "cells": [
  {
   "attachments": {},
   "cell_type": "markdown",
   "metadata": {},
   "source": [
    "# ISP Prediction"
   ]
  },
  {
   "attachments": {},
   "cell_type": "markdown",
   "metadata": {},
   "source": [
    "### 1. Import Libraries"
   ]
  },
  {
   "cell_type": "code",
   "execution_count": null,
   "metadata": {},
   "outputs": [],
   "source": [
    "import pandas as pd\n",
    "from matplotlib import pyplot as plt\n",
    "from pandas.plotting import scatter_matrix\n",
    "from sklearn import linear_model, metrics, model_selection\n",
    "from sklearn.preprocessing import LabelEncoder\n",
    "import seaborn as sns\n",
    "from ipywidgets import widgets"
   ]
  },
  {
   "attachments": {},
   "cell_type": "markdown",
   "metadata": {},
   "source": [
    "### 2. Explore Data"
   ]
  },
  {
   "attachments": {},
   "cell_type": "markdown",
   "metadata": {},
   "source": [
    "#### 2.1 Import Data"
   ]
  },
  {
   "cell_type": "code",
   "execution_count": null,
   "metadata": {},
   "outputs": [],
   "source": [
    "# datasets from Michael Bryant\n",
    "# https://www.kaggle.com/datasets/michaelbryantds/internet-speeds-and-prices\n",
    "df1 = pd.read_csv(\"data/speed_price_att_other_cities.csv\")\n",
    "df2 = pd.read_csv(\"data/speed_price_att.csv\")\n",
    "df3 = pd.read_csv(\"data/speed_price_centurylink.csv\")\n",
    "df4 = pd.read_csv(\"data/speed_price_earthlink.csv\")\n",
    "df5 = pd.read_csv(\"data/speed_price_verizon.csv\")\n",
    "df = pd.concat([df1, df2, df3, df4, df5])\n",
    "\n",
    "(rows, cols) = df.shape\n",
    "print(\"{} Rows x {} Columns\".format(rows, cols))\n",
    "df.head()"
   ]
  },
  {
   "attachments": {},
   "cell_type": "markdown",
   "metadata": {},
   "source": [
    "#### 2.2 Summarize ISP Classifications"
   ]
  },
  {
   "cell_type": "code",
   "execution_count": null,
   "metadata": {},
   "outputs": [],
   "source": [
    "sns.countplot(x=\"provider\", data=df)"
   ]
  },
  {
   "attachments": {},
   "cell_type": "markdown",
   "metadata": {},
   "source": [
    "### 3. Prepare Data"
   ]
  },
  {
   "attachments": {},
   "cell_type": "markdown",
   "metadata": {},
   "source": [
    "#### 3.1 Remove Extraneous Columns"
   ]
  },
  {
   "cell_type": "code",
   "execution_count": null,
   "metadata": {},
   "outputs": [],
   "source": [
    "df = df.drop(columns=[\"state\", \"speed_unit\", \"price\"])\n",
    "df.head()"
   ]
  },
  {
   "attachments": {},
   "cell_type": "markdown",
   "metadata": {},
   "source": [
    "#### 3.2 Remove Cities Outside of Target Markets"
   ]
  },
  {
   "cell_type": "code",
   "execution_count": null,
   "metadata": {},
   "outputs": [],
   "source": [
    "target_markets = [\"new york\", \"los angeles\", \"chicago\", \"houston\", \"phoenix\"]\n",
    "(before_rows, _) = df.shape\n",
    "df = df[df[\"major_city\"].isin(target_markets)]\n",
    "(after_rows, _) = df.shape\n",
    "print(str(before_rows - after_rows) + \" rows removed.\")\n",
    "df.head()"
   ]
  },
  {
   "attachments": {},
   "cell_type": "markdown",
   "metadata": {},
   "source": [
    "#### 3.3 Reorder Columns"
   ]
  },
  {
   "cell_type": "code",
   "execution_count": null,
   "metadata": {},
   "outputs": [],
   "source": [
    "df = df[[\"major_city\", \"speed_down\", \"speed_up\", \"provider\"]]\n",
    "df.head()"
   ]
  },
  {
   "attachments": {},
   "cell_type": "markdown",
   "metadata": {},
   "source": [
    "#### 3.4 Remove Invalid Rows\n",
    "\n",
    "Remove rows containing **0** as the upload speed or download speed."
   ]
  },
  {
   "cell_type": "code",
   "execution_count": null,
   "metadata": {},
   "outputs": [],
   "source": [
    "(before_rows, _) = df.shape\n",
    "df = df[(df != 0).all(1)]\n",
    "(after_rows, _) = df.shape\n",
    "print(str(before_rows - after_rows) + \" rows removed.\")\n",
    "df.head()"
   ]
  },
  {
   "attachments": {},
   "cell_type": "markdown",
   "metadata": {},
   "source": [
    "#### 3.5 Sample Data\n",
    "\n",
    "Take a subset of the data for improved performance."
   ]
  },
  {
   "cell_type": "code",
   "execution_count": null,
   "metadata": {},
   "outputs": [],
   "source": [
    "(rows, cols) = df.shape\n",
    "print(\"Reduced {} Rows x {} Columns\".format(rows, cols))\n",
    "df = df.sample(50000)\n",
    "(rows, cols) = df.shape\n",
    "print(\"to {} Rows x {} Columns\".format(rows, cols))\n",
    "df.head()"
   ]
  },
  {
   "attachments": {},
   "cell_type": "markdown",
   "metadata": {},
   "source": [
    "#### 3.6 Encode City Labels\n",
    "\n",
    "Convert city strings into numbers for later use in the model."
   ]
  },
  {
   "cell_type": "code",
   "execution_count": null,
   "metadata": {},
   "outputs": [],
   "source": [
    "le = LabelEncoder()\n",
    "df[\"major_city_encoded\"] = le.fit_transform(df[\"major_city\"])\n",
    "city_encodings = dict()\n",
    "for city in df[\"major_city\"].unique():\n",
    "    encoding = df[df[\"major_city\"] == city][\"major_city_encoded\"].values[1]\n",
    "    city_encodings[city] = encoding\n",
    "cities = []\n",
    "for city in city_encodings:\n",
    "    cities.append(city.title())\n",
    "cities.sort()\n",
    "df[\"major_city\"] = df[\"major_city_encoded\"]\n",
    "df = df.drop(\"major_city_encoded\", axis=1)\n",
    "df.head(10)"
   ]
  },
  {
   "attachments": {},
   "cell_type": "markdown",
   "metadata": {},
   "source": [
    "### 4. Further Data Exploration"
   ]
  },
  {
   "attachments": {},
   "cell_type": "markdown",
   "metadata": {},
   "source": [
    "#### 4.1 Feature Distribution"
   ]
  },
  {
   "cell_type": "code",
   "execution_count": null,
   "metadata": {},
   "outputs": [],
   "source": [
    "df.hist()\n",
    "plt.show()"
   ]
  },
  {
   "attachments": {},
   "cell_type": "markdown",
   "metadata": {},
   "source": [
    "#### 4.2 Feature Relationships"
   ]
  },
  {
   "cell_type": "code",
   "execution_count": null,
   "metadata": {},
   "outputs": [],
   "source": [
    "scatter_matrix(df)"
   ]
  },
  {
   "attachments": {},
   "cell_type": "markdown",
   "metadata": {},
   "source": [
    "### 5. Prepare Data for Machine Learning"
   ]
  },
  {
   "attachments": {},
   "cell_type": "markdown",
   "metadata": {},
   "source": [
    "Split data into 70% training data and 30% testing data."
   ]
  },
  {
   "cell_type": "code",
   "execution_count": null,
   "metadata": {},
   "outputs": [],
   "source": [
    "y = df.values[:, 3]  # dependent variable (prediction)\n",
    "X = df.values[:, 0:3]  # independent variables (used to make prediction)\n",
    "X_train, X_test, y_train, y_test = model_selection.train_test_split(X, y, test_size=0.3)\n",
    "print(\"Training data shape: \", X_train.shape)\n",
    "print(\"Testing data has shape: \", X_test.shape)"
   ]
  },
  {
   "attachments": {},
   "cell_type": "markdown",
   "metadata": {},
   "source": [
    "### 6. Logistic Regression Model"
   ]
  },
  {
   "attachments": {},
   "cell_type": "markdown",
   "metadata": {},
   "source": [
    "#### 6.1 Create Logistic Regression Model"
   ]
  },
  {
   "cell_type": "code",
   "execution_count": null,
   "metadata": {},
   "outputs": [],
   "source": [
    "log_model = linear_model.LogisticRegression(max_iter=2000)\n",
    "log_model.fit(X_train, y_train)"
   ]
  },
  {
   "attachments": {},
   "cell_type": "markdown",
   "metadata": {},
   "source": [
    "#### 6.2 Calculate Model Accuracy"
   ]
  },
  {
   "cell_type": "code",
   "execution_count": null,
   "metadata": {},
   "outputs": [],
   "source": [
    "y_pred_log = log_model.predict(X_test)\n",
    "print(\"Accuracy: \", round(metrics.accuracy_score(y_test, y_pred_log) * 100, 2), \"%\")"
   ]
  },
  {
   "attachments": {},
   "cell_type": "markdown",
   "metadata": {},
   "source": [
    "#### 6.3 Confusion Matrix"
   ]
  },
  {
   "cell_type": "code",
   "execution_count": null,
   "metadata": {},
   "outputs": [],
   "source": [
    "cm = metrics.confusion_matrix(y_test, y_pred_log, labels=log_model.classes_)\n",
    "disp = metrics.ConfusionMatrixDisplay(confusion_matrix=cm, display_labels=log_model.classes_)\n",
    "disp.plot()"
   ]
  },
  {
   "attachments": {},
   "cell_type": "markdown",
   "metadata": {},
   "source": [
    "### 7. Make Prediction"
   ]
  },
  {
   "attachments": {},
   "cell_type": "markdown",
   "metadata": {},
   "source": [
    "Run the code below to predict a potential customer's current ISP based on the city they live in and their download and upload speed."
   ]
  },
  {
   "cell_type": "code",
   "execution_count": null,
   "metadata": {},
   "outputs": [],
   "source": [
    "city_widget = widgets.Dropdown(options=cities)\n",
    "download_widget = widgets.FloatSlider(\n",
    "    value=0.5, min=0.5, max=1000, step=0.1, orientation=\"horizontal\", readout=True, readout_format=\".1f\"\n",
    ")\n",
    "upload_widget = widgets.FloatSlider(\n",
    "    value=0.5, min=0.5, max=1000, step=0.1, orientation=\"horizontal\", readout=True, readout_format=\".1f\"\n",
    ")\n",
    "\n",
    "button_predict = widgets.Button(description=\"Predict Current ISP\")\n",
    "button_output = widgets.Label(value='Enter values and press the \"Predict\" button.')\n",
    "\n",
    "\n",
    "def on_click(b):\n",
    "    encoded_city = city_encodings[city_widget.value.lower()]\n",
    "    prediction = log_model.predict([[encoded_city, download_widget.value, upload_widget.value]])\n",
    "    button_output.value = \"Predicted ISP: \" + str(prediction[0])\n",
    "\n",
    "\n",
    "button_predict.on_click(on_click)\n",
    "\n",
    "label_layout = widgets.Layout(width=\"110px\")\n",
    "vb = widgets.VBox(\n",
    "    [\n",
    "        widgets.HBox([widgets.Label(\"City:\", layout=label_layout), city_widget]),\n",
    "        widgets.HBox([widgets.Label(\"Download Speed:\", layout=label_layout), download_widget, widgets.Label(\"Mbps\")]),\n",
    "        widgets.HBox([widgets.Label(\"Upload Speed:\", layout=label_layout), upload_widget, widgets.Label(\"Mbps\")]),\n",
    "        widgets.HBox([widgets.Label(\" \", layout=label_layout), button_predict]),\n",
    "        widgets.HBox([widgets.Label(\" \", layout=label_layout), button_output]),\n",
    "    ]\n",
    ")\n",
    "print(\"\\033[1m\" + \"Select values and make a prediction\" + \"\\033[0m\")\n",
    "display(vb)"
   ]
  }
 ],
 "metadata": {
  "kernelspec": {
   "display_name": "base",
   "language": "python",
   "name": "python3"
  },
  "language_info": {
   "codemirror_mode": {
    "name": "ipython",
    "version": 3
   },
   "file_extension": ".py",
   "mimetype": "text/x-python",
   "name": "python",
   "nbconvert_exporter": "python",
   "pygments_lexer": "ipython3",
   "version": "3.10.9"
  },
  "orig_nbformat": 4
 },
 "nbformat": 4,
 "nbformat_minor": 2
}
