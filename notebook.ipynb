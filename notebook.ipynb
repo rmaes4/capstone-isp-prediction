{
 "cells": [
  {
   "attachments": {},
   "cell_type": "markdown",
   "metadata": {},
   "source": [
    "# My Notebook"
   ]
  },
  {
   "cell_type": "code",
   "execution_count": 34,
   "metadata": {},
   "outputs": [],
   "source": [
    "import pandas as pd\n",
    "\n",
    "file_path1 = \"data/speed_price_att_other_cities.csv\"\n",
    "df1 = pd.read_csv(file_path1)\n",
    "\n",
    "file_path2 = \"data/speed_price_att.csv\"\n",
    "df2 = pd.read_csv(file_path2)\n",
    "\n",
    "file_path3 = \"data/speed_price_centurylink.csv\"\n",
    "df3 = pd.read_csv(file_path3)\n",
    "\n",
    "file_path4 = \"data/speed_price_earthlink.csv\"\n",
    "df4 = pd.read_csv(file_path4)\n",
    "\n",
    "file_path5 = \"data/speed_price_verizon.csv\"\n",
    "df5 = pd.read_csv(file_path5)\n",
    "\n",
    "df = pd.concat([df1, df2, df3, df4, df5])"
   ]
  },
  {
   "cell_type": "code",
   "execution_count": 35,
   "metadata": {},
   "outputs": [
    {
     "data": {
      "text/html": [
       "<div>\n",
       "<style scoped>\n",
       "    .dataframe tbody tr th:only-of-type {\n",
       "        vertical-align: middle;\n",
       "    }\n",
       "\n",
       "    .dataframe tbody tr th {\n",
       "        vertical-align: top;\n",
       "    }\n",
       "\n",
       "    .dataframe thead th {\n",
       "        text-align: right;\n",
       "    }\n",
       "</style>\n",
       "<table border=\"1\" class=\"dataframe\">\n",
       "  <thead>\n",
       "    <tr style=\"text-align: right;\">\n",
       "      <th></th>\n",
       "      <th>major_city</th>\n",
       "      <th>provider</th>\n",
       "      <th>speed_down</th>\n",
       "      <th>speed_up</th>\n",
       "      <th>price</th>\n",
       "    </tr>\n",
       "  </thead>\n",
       "  <tbody>\n",
       "    <tr>\n",
       "      <th>7</th>\n",
       "      <td>cleveland</td>\n",
       "      <td>AT&amp;T</td>\n",
       "      <td>1.0</td>\n",
       "      <td>1.0</td>\n",
       "      <td>55.0</td>\n",
       "    </tr>\n",
       "    <tr>\n",
       "      <th>10</th>\n",
       "      <td>cleveland</td>\n",
       "      <td>AT&amp;T</td>\n",
       "      <td>5.0</td>\n",
       "      <td>1.0</td>\n",
       "      <td>55.0</td>\n",
       "    </tr>\n",
       "    <tr>\n",
       "      <th>20</th>\n",
       "      <td>cleveland</td>\n",
       "      <td>AT&amp;T</td>\n",
       "      <td>1.0</td>\n",
       "      <td>1.0</td>\n",
       "      <td>55.0</td>\n",
       "    </tr>\n",
       "    <tr>\n",
       "      <th>29</th>\n",
       "      <td>cleveland</td>\n",
       "      <td>AT&amp;T</td>\n",
       "      <td>1.0</td>\n",
       "      <td>1.0</td>\n",
       "      <td>55.0</td>\n",
       "    </tr>\n",
       "    <tr>\n",
       "      <th>31</th>\n",
       "      <td>cleveland</td>\n",
       "      <td>AT&amp;T</td>\n",
       "      <td>300.0</td>\n",
       "      <td>300.0</td>\n",
       "      <td>55.0</td>\n",
       "    </tr>\n",
       "    <tr>\n",
       "      <th>33</th>\n",
       "      <td>cleveland</td>\n",
       "      <td>AT&amp;T</td>\n",
       "      <td>300.0</td>\n",
       "      <td>300.0</td>\n",
       "      <td>55.0</td>\n",
       "    </tr>\n",
       "    <tr>\n",
       "      <th>34</th>\n",
       "      <td>cleveland</td>\n",
       "      <td>AT&amp;T</td>\n",
       "      <td>300.0</td>\n",
       "      <td>300.0</td>\n",
       "      <td>55.0</td>\n",
       "    </tr>\n",
       "    <tr>\n",
       "      <th>35</th>\n",
       "      <td>cleveland</td>\n",
       "      <td>AT&amp;T</td>\n",
       "      <td>300.0</td>\n",
       "      <td>300.0</td>\n",
       "      <td>55.0</td>\n",
       "    </tr>\n",
       "    <tr>\n",
       "      <th>36</th>\n",
       "      <td>cleveland</td>\n",
       "      <td>AT&amp;T</td>\n",
       "      <td>300.0</td>\n",
       "      <td>300.0</td>\n",
       "      <td>55.0</td>\n",
       "    </tr>\n",
       "    <tr>\n",
       "      <th>37</th>\n",
       "      <td>cleveland</td>\n",
       "      <td>AT&amp;T</td>\n",
       "      <td>300.0</td>\n",
       "      <td>300.0</td>\n",
       "      <td>55.0</td>\n",
       "    </tr>\n",
       "  </tbody>\n",
       "</table>\n",
       "</div>"
      ],
      "text/plain": [
       "   major_city provider  speed_down  speed_up  price\n",
       "7   cleveland     AT&T         1.0       1.0   55.0\n",
       "10  cleveland     AT&T         5.0       1.0   55.0\n",
       "20  cleveland     AT&T         1.0       1.0   55.0\n",
       "29  cleveland     AT&T         1.0       1.0   55.0\n",
       "31  cleveland     AT&T       300.0     300.0   55.0\n",
       "33  cleveland     AT&T       300.0     300.0   55.0\n",
       "34  cleveland     AT&T       300.0     300.0   55.0\n",
       "35  cleveland     AT&T       300.0     300.0   55.0\n",
       "36  cleveland     AT&T       300.0     300.0   55.0\n",
       "37  cleveland     AT&T       300.0     300.0   55.0"
      ]
     },
     "execution_count": 35,
     "metadata": {},
     "output_type": "execute_result"
    }
   ],
   "source": [
    "df = df.drop(columns=['address_full', 'incorporated_place', 'state', 'lat', 'lon', 'availability_status', 'block_group', 'collection_datetime', 'technology', 'package', 'fastest_speed_down', 'fastest_speed_price', 'fn', 'redlining_grade', 'geoid', 'race_perc_non_white', 'internet_perc_broadband', 'median_household_income', 'income_lmi', 'ppl_per_sq_mile', 'n_providers', 'income_dollars_below_median', 'closest_fiber_miles', 'address_full_closest_fiber', 'lat_closest_fiber', 'lon_closest_fiber', 'contract_provider', 'in_service', 'speed_unit'])\n",
    "df.drop(df[df['speed_down'] == 0].index, inplace= True)\n",
    "df.head(10)"
   ]
  },
  {
   "cell_type": "code",
   "execution_count": 37,
   "metadata": {},
   "outputs": [
    {
     "name": "stdout",
     "output_type": "stream",
     "text": [
      "['cleveland' 'memphis' 'huntsville' 'little rock' 'los angeles'\n",
      " 'jacksonville' 'atlanta' 'chicago' 'indianapolis' 'wichita' 'louisville'\n",
      " 'new orleans' 'detroit' 'kansas city' 'jackson' 'charlotte' 'columbus'\n",
      " 'oklahoma city' 'charleston' 'nashville' 'houston' 'milwaukee' 'phoenix'\n",
      " 'denver' 'des moines' 'boise' 'minneapolis' 'billings' 'fargo' 'omaha'\n",
      " 'albuquerque' 'las vegas' 'portland' 'sioux falls' 'salt lake city'\n",
      " 'seattle' 'cheyenne' 'bridgeport' 'washington' 'wilmington' 'boston'\n",
      " 'baltimore' 'newark' 'new york' 'staten island' 'queens' 'brooklyn'\n",
      " 'bronx' 'philadelphia' 'providence' 'virginia beach']\n",
      "['AT&T' 'CenturyLink' 'EarthLink' 'Verizon']\n",
      "[1.00e+00 5.00e+00 3.00e+02 1.00e+02 5.00e+01 7.50e+01 7.68e-01 1.00e+01\n",
      " 2.50e+01 1.80e+01 5.00e+02 2.00e+03 3.00e+00 8.00e+01 4.00e+01 3.00e+01\n",
      " 1.40e+02 1.50e+01 6.00e+01 2.00e+02 2.00e+01 5.00e-01 1.50e+00 6.00e+00\n",
      " 2.40e+01 4.50e+01 1.20e+01 9.00e+00 7.10e+00]\n",
      "[1.00e+00 3.00e+02 2.00e+01 1.00e+01 3.84e-01 5.00e+00 2.00e+00 5.00e+02\n",
      " 1.00e+02 2.00e+03 3.00e+00 1.50e+00 7.50e-01 2.00e+02 5.00e-01 2.50e-01\n",
      " 6.00e+00 8.00e+00 5.12e-01 7.68e-01 5.00e+01 1.50e+01 7.50e+01]\n",
      "[ 55.    30.     0.    65.    50.    59.95  49.95  69.95  54.95  39.99\n",
      "  49.99  40.   114.99  64.99  94.99  74.99  84.99]\n"
     ]
    },
    {
     "data": {
      "text/plain": [
       "(714799, 5)"
      ]
     },
     "execution_count": 37,
     "metadata": {},
     "output_type": "execute_result"
    }
   ],
   "source": [
    "print(df.major_city.unique())\n",
    "print(df.provider.unique())\n",
    "print(df.speed_down.unique())\n",
    "print(df.speed_up.unique())\n",
    "print(df.price.unique())\n",
    "\n",
    "df.shape"
   ]
  }
 ],
 "metadata": {
  "kernelspec": {
   "display_name": "base",
   "language": "python",
   "name": "python3"
  },
  "language_info": {
   "codemirror_mode": {
    "name": "ipython",
    "version": 3
   },
   "file_extension": ".py",
   "mimetype": "text/x-python",
   "name": "python",
   "nbconvert_exporter": "python",
   "pygments_lexer": "ipython3",
   "version": "3.10.9"
  },
  "orig_nbformat": 4
 },
 "nbformat": 4,
 "nbformat_minor": 2
}
